{
 "cells": [
  {
   "cell_type": "markdown",
   "metadata": {},
   "source": [
    "# <center>Day 1 - Intro to MDAnalysis</center>"
   ]
  },
  {
   "attachments": {},
   "cell_type": "markdown",
   "metadata": {},
   "source": [
    "# Session schedule\n",
    "\n",
    "The session will be split into two sections:\n",
    "\n",
    "- **Section 1 (14:00-15:30):** Basics of MDAnalysis\n",
    "  * Fundamental MDAnalysis objects\n",
    "  * Atom selections\n",
    "  * Visualising systems\n",
    "  * Accessing bond, angle, and dihedral information\n",
    "\n",
    "\n",
    "- **Section 2 (16:00-17:00):** Positions, distances, and trajectory \n",
    "  * Using position data\n",
    "  * Calculating distances, bonds and angles\n",
    "  * Accessing trajectory data"
   ]
  },
  {
   "cell_type": "code",
   "execution_count": 2,
   "metadata": {},
   "outputs": [
    {
     "data": {
      "text/plain": [
       "array([[ 11.736044 ,   8.500797 , -10.445281 ],\n",
       "       [ 12.365119 ,   7.839936 , -10.834842 ],\n",
       "       [ 12.0919485,   9.441535 , -10.724611 ],\n",
       "       ...,\n",
       "       [  6.512604 ,  18.447018 ,  -7.134053 ],\n",
       "       [  6.300186 ,  19.363485 ,  -7.935916 ],\n",
       "       [  5.5854015,  17.589624 ,  -6.9656615]], dtype=float32)"
      ]
     },
     "execution_count": 2,
     "metadata": {},
     "output_type": "execute_result"
    }
   ],
   "source": [
    "# First we import MDAnalysis\n",
    "import MDAnalysis as mda\n",
    "from MDAnalysis.tests.datafiles import PSF, DCD\n",
    "\n",
    "u = mda.Universe(PSF, DCD)\n",
    "pos = u.atoms.positions\n",
    "pos"
   ]
  },
  {
   "cell_type": "markdown",
   "metadata": {},
   "source": [
    "# `distance_array`"
   ]
  },
  {
   "cell_type": "markdown",
   "metadata": {},
   "source": [
    "To calculate all pairwise distances between two arrays of coordinates."
   ]
  },
  {
   "cell_type": "code",
   "execution_count": 4,
   "metadata": {},
   "outputs": [
    {
     "name": "stdout",
     "output_type": "stream",
     "text": [
      "(10, 3331)\n",
      "[[0.         0.9920841  1.04387783 ... 9.09150004 7.8105948  9.09971745]\n",
      " [0.9920841  0.         1.62846336 ... 9.9430324  8.70396582 9.93966063]\n",
      " [1.04387783 1.62846336 0.         ... 9.0507164  7.82633649 9.24420786]\n",
      " ...\n",
      " [2.67831878 3.60064083 3.02210083 ... 6.98287171 5.50558527 6.7658636 ]\n",
      " [2.48649473 3.41418661 2.15870939 ... 6.94746882 5.71699641 7.21281159]\n",
      " [3.81500409 4.63829735 3.95581602 ... 5.31906104 4.1259778  5.36780012]]\n"
     ]
    }
   ],
   "source": [
    "from MDAnalysis.lib import distances\n",
    "\n",
    "\n",
    "ag1 = u.atoms[:10]\n",
    "ag2 = u.atoms[:-10]\n",
    "\n",
    "reference = ag1.positions\n",
    "configuration = ag2.positions\n",
    "\n",
    "da = distances.distance_array(reference, \n",
    "                         configuration,\n",
    "                         box=u.dimensions)\n",
    "print(da.shape)\n",
    "print(da)"
   ]
  },
  {
   "cell_type": "code",
   "execution_count": 5,
   "metadata": {},
   "outputs": [
    {
     "data": {
      "text/plain": [
       "<TopologyGroup containing 3365 bonds>"
      ]
     },
     "execution_count": 5,
     "metadata": {},
     "output_type": "execute_result"
    }
   ],
   "source": [
    "u.bonds"
   ]
  }
 ],
 "metadata": {
  "kernelspec": {
   "display_name": "Python 3.10.0 ('manal')",
   "language": "python",
   "name": "python3"
  },
  "language_info": {
   "codemirror_mode": {
    "name": "ipython",
    "version": 3
   },
   "file_extension": ".py",
   "mimetype": "text/x-python",
   "name": "python",
   "nbconvert_exporter": "python",
   "pygments_lexer": "ipython3",
   "version": "3.10.0"
  },
  "orig_nbformat": 4,
  "vscode": {
   "interpreter": {
    "hash": "0e326adce4a51c4657303bd2cd7e70ade8a4f3a7a8b33483d15c4b95fe8a0be5"
   }
  }
 },
 "nbformat": 4,
 "nbformat_minor": 2
}
