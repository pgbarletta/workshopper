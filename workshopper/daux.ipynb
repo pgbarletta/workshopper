{
 "cells": [
  {
   "cell_type": "code",
   "execution_count": 4,
   "metadata": {},
   "outputs": [
    {
     "name": "stderr",
     "output_type": "stream",
     "text": [
      "/home/pbarletta/anaconda3/envs/manal/lib/python3.10/site-packages/term_image/utils.py:634: UserWarning: It seems this process is not running within a terminal. Hence, automatic font ratio and render styles based on terminal graphics protocols will not work.\n",
      "You can set an 'ignore' filter for this warning before loading `term_image`, if not using any of the features affected.\n",
      "  warnings.warn(\n"
     ]
    },
    {
     "ename": "AttributeError",
     "evalue": "'OutStream' object has no attribute 'buffer'",
     "output_type": "error",
     "traceback": [
      "\u001b[0;31m---------------------------------------------------------------------------\u001b[0m",
      "\u001b[0;31mAttributeError\u001b[0m                            Traceback (most recent call last)",
      "\u001b[1;32m/home/pbarletta/labo/22/workshopper/workshopper/daux.ipynb Cell 1\u001b[0m in \u001b[0;36m<cell line: 13>\u001b[0;34m()\u001b[0m\n\u001b[1;32m     <a href='vscode-notebook-cell:/home/pbarletta/labo/22/workshopper/workshopper/daux.ipynb#W0sZmlsZQ%3D%3D?line=10'>11</a>\u001b[0m sys\u001b[39m.\u001b[39mpath\u001b[39m.\u001b[39minsert(\u001b[39m0\u001b[39m, \u001b[39mstr\u001b[39m(src_dir))\n\u001b[1;32m     <a href='vscode-notebook-cell:/home/pbarletta/labo/22/workshopper/workshopper/daux.ipynb#W0sZmlsZQ%3D%3D?line=11'>12</a>\u001b[0m sys\u001b[39m.\u001b[39mpath\u001b[39m.\u001b[39minsert(\u001b[39m0\u001b[39m, \u001b[39mstr\u001b[39m(src_dir \u001b[39m/\u001b[39m \u001b[39m\"\u001b[39m\u001b[39mnbpreview\u001b[39m\u001b[39m\"\u001b[39m))\n\u001b[0;32m---> <a href='vscode-notebook-cell:/home/pbarletta/labo/22/workshopper/workshopper/daux.ipynb#W0sZmlsZQ%3D%3D?line=12'>13</a>\u001b[0m \u001b[39mfrom\u001b[39;00m \u001b[39mnbpreview\u001b[39;00m\u001b[39m.\u001b[39;00m\u001b[39mnotebook\u001b[39;00m \u001b[39mimport\u001b[39;00m Notebook, _render_notebook  \u001b[39m# type: ignore\u001b[39;00m\n\u001b[1;32m     <a href='vscode-notebook-cell:/home/pbarletta/labo/22/workshopper/workshopper/daux.ipynb#W0sZmlsZQ%3D%3D?line=13'>14</a>\u001b[0m \u001b[39mfrom\u001b[39;00m \u001b[39mnbpreview\u001b[39;00m\u001b[39m.\u001b[39;00m\u001b[39mcomponent\u001b[39;00m\u001b[39m.\u001b[39;00m\u001b[39mcontent\u001b[39;00m\u001b[39m.\u001b[39;00m\u001b[39moutput\u001b[39;00m\u001b[39m.\u001b[39;00m\u001b[39mresult\u001b[39;00m\u001b[39m.\u001b[39;00m\u001b[39mdrawing\u001b[39;00m \u001b[39mimport\u001b[39;00m ImageDrawing\n",
      "File \u001b[0;32m~/labo/22/workshopper/workshopper/nbpreview/notebook.py:19\u001b[0m, in \u001b[0;36m<module>\u001b[0;34m\u001b[0m\n\u001b[1;32m     17\u001b[0m \n\u001b[1;32m     18\u001b[0m import .errors\n\u001b[0;32m---> 19\u001b[0m from component import row\n\u001b[1;32m     20\u001b[0m from component.content.output.result.drawing import ImageDrawing\n\u001b[1;32m     21\u001b[0m \n",
      "File \u001b[0;32m~/labo/22/workshopper/workshopper/nbpreview/component/row.py:12\u001b[0m, in \u001b[0;36m<module>\u001b[0;34m\u001b[0m\n\u001b[1;32m      9\u001b[0m \u001b[39mfrom\u001b[39;00m \u001b[39mrich\u001b[39;00m \u001b[39mimport\u001b[39;00m padding\n\u001b[1;32m     10\u001b[0m \u001b[39mfrom\u001b[39;00m \u001b[39mrich\u001b[39;00m\u001b[39m.\u001b[39;00m\u001b[39mpadding\u001b[39;00m \u001b[39mimport\u001b[39;00m Padding, PaddingDimensions\n\u001b[0;32m---> 12\u001b[0m \u001b[39mfrom\u001b[39;00m \u001b[39mcomponent\u001b[39;00m\u001b[39m.\u001b[39;00m\u001b[39mcontent\u001b[39;00m \u001b[39mimport\u001b[39;00m \u001b[39minput\u001b[39m\n\u001b[1;32m     13\u001b[0m \u001b[39mfrom\u001b[39;00m \u001b[39mcomponent\u001b[39;00m\u001b[39m.\u001b[39;00m\u001b[39mcontent\u001b[39;00m\u001b[39m.\u001b[39;00m\u001b[39minput\u001b[39;00m \u001b[39mimport\u001b[39;00m Cell\n\u001b[1;32m     14\u001b[0m \u001b[39mfrom\u001b[39;00m \u001b[39mcomponent\u001b[39;00m\u001b[39m.\u001b[39;00m\u001b[39mcontent\u001b[39;00m\u001b[39m.\u001b[39;00m\u001b[39moutput\u001b[39;00m \u001b[39mimport\u001b[39;00m error, stream\n",
      "File \u001b[0;32m~/labo/22/workshopper/workshopper/nbpreview/component/content/input.py:13\u001b[0m, in \u001b[0;36m<module>\u001b[0;34m\u001b[0m\n\u001b[1;32m     10\u001b[0m \u001b[39mfrom\u001b[39;00m \u001b[39mrich\u001b[39;00m\u001b[39m.\u001b[39;00m\u001b[39mpadding\u001b[39;00m \u001b[39mimport\u001b[39;00m Padding, PaddingDimensions\n\u001b[1;32m     11\u001b[0m \u001b[39mfrom\u001b[39;00m \u001b[39mrich\u001b[39;00m\u001b[39m.\u001b[39;00m\u001b[39msyntax\u001b[39;00m \u001b[39mimport\u001b[39;00m Syntax\n\u001b[0;32m---> 13\u001b[0m \u001b[39mfrom\u001b[39;00m \u001b[39mcomponent\u001b[39;00m \u001b[39mimport\u001b[39;00m markdown\n\u001b[1;32m     14\u001b[0m \u001b[39mfrom\u001b[39;00m \u001b[39mcomponent\u001b[39;00m\u001b[39m.\u001b[39;00m\u001b[39mcontent\u001b[39;00m\u001b[39m.\u001b[39;00m\u001b[39moutput\u001b[39;00m\u001b[39m.\u001b[39;00m\u001b[39mresult\u001b[39;00m\u001b[39m.\u001b[39;00m\u001b[39mdrawing\u001b[39;00m \u001b[39mimport\u001b[39;00m ImageDrawing\n\u001b[1;32m     17\u001b[0m \u001b[39mdef\u001b[39;00m \u001b[39mbox_cell\u001b[39m(\n\u001b[1;32m     18\u001b[0m     rendered_source: RenderableType, plain: \u001b[39mbool\u001b[39m, safe_box: Optional[\u001b[39mbool\u001b[39m] \u001b[39m=\u001b[39m \u001b[39mNone\u001b[39;00m\n\u001b[1;32m     19\u001b[0m ) \u001b[39m-\u001b[39m\u001b[39m>\u001b[39m RenderableType:\n",
      "File \u001b[0;32m~/labo/22/workshopper/workshopper/nbpreview/component/markdown.py:33\u001b[0m, in \u001b[0;36m<module>\u001b[0;34m\u001b[0m\n\u001b[1;32m     30\u001b[0m \u001b[39mfrom\u001b[39;00m \u001b[39mrich\u001b[39;00m\u001b[39m.\u001b[39;00m\u001b[39mstyle\u001b[39;00m \u001b[39mimport\u001b[39;00m Style\n\u001b[1;32m     31\u001b[0m \u001b[39mfrom\u001b[39;00m \u001b[39mrich\u001b[39;00m\u001b[39m.\u001b[39;00m\u001b[39mtext\u001b[39;00m \u001b[39mimport\u001b[39;00m Text\n\u001b[0;32m---> 33\u001b[0m \u001b[39mfrom\u001b[39;00m \u001b[39mcomponent\u001b[39;00m\u001b[39m.\u001b[39;00m\u001b[39mcontent\u001b[39;00m\u001b[39m.\u001b[39;00m\u001b[39moutput\u001b[39;00m\u001b[39m.\u001b[39;00m\u001b[39mresult\u001b[39;00m \u001b[39mimport\u001b[39;00m drawing, link, markdown_extensions\n\u001b[1;32m     34\u001b[0m \u001b[39mfrom\u001b[39;00m \u001b[39mcomponent\u001b[39;00m\u001b[39m.\u001b[39;00m\u001b[39mcontent\u001b[39;00m\u001b[39m.\u001b[39;00m\u001b[39moutput\u001b[39;00m\u001b[39m.\u001b[39;00m\u001b[39mresult\u001b[39;00m\u001b[39m.\u001b[39;00m\u001b[39mdrawing\u001b[39;00m \u001b[39mimport\u001b[39;00m ImageDrawing\n\u001b[1;32m     35\u001b[0m \u001b[39mfrom\u001b[39;00m \u001b[39mcomponent\u001b[39;00m\u001b[39m.\u001b[39;00m\u001b[39mcontent\u001b[39;00m\u001b[39m.\u001b[39;00m\u001b[39moutput\u001b[39;00m\u001b[39m.\u001b[39;00m\u001b[39mresult\u001b[39;00m\u001b[39m.\u001b[39;00m\u001b[39mmarkdown_extensions\u001b[39;00m \u001b[39mimport\u001b[39;00m (\n\u001b[1;32m     36\u001b[0m     MarkdownExtensionSection,\n\u001b[1;32m     37\u001b[0m )\n",
      "File \u001b[0;32m~/labo/22/workshopper/workshopper/nbpreview/component/content/output/result/drawing.py:21\u001b[0m, in \u001b[0;36m<module>\u001b[0;34m\u001b[0m\n\u001b[1;32m     19\u001b[0m \u001b[39mfrom\u001b[39;00m \u001b[39mrich\u001b[39;00m\u001b[39m.\u001b[39;00m\u001b[39mmeasure\u001b[39;00m \u001b[39mimport\u001b[39;00m Measurement\n\u001b[1;32m     20\u001b[0m \u001b[39mfrom\u001b[39;00m \u001b[39mrich\u001b[39;00m\u001b[39m.\u001b[39;00m\u001b[39mtext\u001b[39;00m \u001b[39mimport\u001b[39;00m Text\n\u001b[0;32m---> 21\u001b[0m \u001b[39mfrom\u001b[39;00m \u001b[39mterm_image\u001b[39;00m \u001b[39mimport\u001b[39;00m image \u001b[39mas\u001b[39;00m term_image\n\u001b[1;32m     23\u001b[0m \u001b[39mfrom\u001b[39;00m \u001b[39mdata\u001b[39;00m \u001b[39mimport\u001b[39;00m Data\n\u001b[1;32m     24\u001b[0m \u001b[39mfrom\u001b[39;00m \u001b[39moption_values\u001b[39;00m \u001b[39mimport\u001b[39;00m ImageDrawingEnum\n",
      "File \u001b[0;32m~/anaconda3/envs/manal/lib/python3.10/site-packages/term_image/image/__init__.py:34\u001b[0m, in \u001b[0;36m<module>\u001b[0;34m\u001b[0m\n\u001b[1;32m     26\u001b[0m \u001b[39mfrom\u001b[39;00m \u001b[39m.\u001b[39;00m\u001b[39mblock\u001b[39;00m \u001b[39mimport\u001b[39;00m BlockImage, TermImage  \u001b[39m# noqa:F401\u001b[39;00m\n\u001b[1;32m     27\u001b[0m \u001b[39mfrom\u001b[39;00m \u001b[39m.\u001b[39;00m\u001b[39mcommon\u001b[39;00m \u001b[39mimport\u001b[39;00m (  \u001b[39m# noqa:F401\u001b[39;00m\n\u001b[1;32m     28\u001b[0m     BaseImage,\n\u001b[1;32m     29\u001b[0m     GraphicsImage,\n\u001b[0;32m   (...)\u001b[0m\n\u001b[1;32m     32\u001b[0m     TextImage,\n\u001b[1;32m     33\u001b[0m )\n\u001b[0;32m---> 34\u001b[0m \u001b[39mfrom\u001b[39;00m \u001b[39m.\u001b[39;00m\u001b[39miterm2\u001b[39;00m \u001b[39mimport\u001b[39;00m ITerm2Image  \u001b[39m# noqa:F401\u001b[39;00m\n\u001b[1;32m     35\u001b[0m \u001b[39mfrom\u001b[39;00m \u001b[39m.\u001b[39;00m\u001b[39mkitty\u001b[39;00m \u001b[39mimport\u001b[39;00m KittyImage  \u001b[39m# noqa:F401\u001b[39;00m\n\u001b[1;32m     38\u001b[0m \u001b[39mdef\u001b[39;00m \u001b[39mAutoImage\u001b[39m(\n\u001b[1;32m     39\u001b[0m     image: PIL\u001b[39m.\u001b[39mImage\u001b[39m.\u001b[39mImage,\n\u001b[1;32m     40\u001b[0m     \u001b[39m*\u001b[39m,\n\u001b[0;32m   (...)\u001b[0m\n\u001b[1;32m     43\u001b[0m     scale: Tuple[\u001b[39mfloat\u001b[39m, \u001b[39mfloat\u001b[39m] \u001b[39m=\u001b[39m (\u001b[39m1.0\u001b[39m, \u001b[39m1.0\u001b[39m),\n\u001b[1;32m     44\u001b[0m ) \u001b[39m-\u001b[39m\u001b[39m>\u001b[39m BaseImage:\n",
      "File \u001b[0;32m~/anaconda3/envs/manal/lib/python3.10/site-packages/term_image/image/iterm2.py:620\u001b[0m, in \u001b[0;36m<module>\u001b[0;34m\u001b[0m\n\u001b[1;32m    618\u001b[0m DELETE_ALL_IMAGES \u001b[39m=\u001b[39m \u001b[39mf\u001b[39m\u001b[39m\"\u001b[39m\u001b[39m{\u001b[39;00mESC\u001b[39m}\u001b[39;00m\u001b[39m_Ga=d;\u001b[39m\u001b[39m{\u001b[39;00mST\u001b[39m}\u001b[39;00m\u001b[39m\"\u001b[39m\u001b[39m.\u001b[39mencode()\n\u001b[1;32m    619\u001b[0m native_anim \u001b[39m=\u001b[39m Event()\n\u001b[0;32m--> 620\u001b[0m _stdout_write \u001b[39m=\u001b[39m sys\u001b[39m.\u001b[39;49mstdout\u001b[39m.\u001b[39;49mbuffer\u001b[39m.\u001b[39mwrite\n",
      "\u001b[0;31mAttributeError\u001b[0m: 'OutStream' object has no attribute 'buffer'"
     ]
    }
   ],
   "source": [
    "import sys\n",
    "from pathlib import Path\n",
    "from typing import List, Literal, Any, Union, Dict\n",
    "\n",
    "import nbformat as nbf\n",
    "from rich.console import Console\n",
    "from rich.table import Table\n",
    "import questionary\n",
    "\n",
    "src_dir = Path().resolve().parent / \"workshopper\"\n",
    "sys.path.insert(0, str(src_dir))\n",
    "sys.path.insert(0, str(src_dir / \"nbpreview\"))\n",
    "from nbpreview.notebook import Notebook, _render_notebook  # type: ignore\n",
    "from nbpreview.component.content.output.result.drawing import ImageDrawing"
   ]
  },
  {
   "cell_type": "code",
   "execution_count": 7,
   "metadata": {},
   "outputs": [
    {
     "data": {
      "text/plain": [
       "{'a': 0, 'c': 0, 'd': 0, 'e': 0, 'f': 0}"
      ]
     },
     "execution_count": 7,
     "metadata": {},
     "output_type": "execute_result"
    }
   ],
   "source": [
    "n = 5\n",
    "a = ['a', 'c', 'd', 'e', 'f']\n",
    "dict.fromkeys(a, 0)"
   ]
  }
 ],
 "metadata": {
  "kernelspec": {
   "display_name": "Python 3.10.0 ('manal')",
   "language": "python",
   "name": "python3"
  },
  "language_info": {
   "codemirror_mode": {
    "name": "ipython",
    "version": 3
   },
   "file_extension": ".py",
   "mimetype": "text/x-python",
   "name": "python",
   "nbconvert_exporter": "python",
   "pygments_lexer": "ipython3",
   "version": "3.10.0"
  },
  "orig_nbformat": 4,
  "vscode": {
   "interpreter": {
    "hash": "0e326adce4a51c4657303bd2cd7e70ade8a4f3a7a8b33483d15c4b95fe8a0be5"
   }
  }
 },
 "nbformat": 4,
 "nbformat_minor": 2
}
